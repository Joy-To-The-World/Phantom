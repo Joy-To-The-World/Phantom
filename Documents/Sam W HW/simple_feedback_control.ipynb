{
 "cells": [
  {
   "cell_type": "markdown",
   "metadata": {
    "deletable": false,
    "editable": false,
    "nbgrader": {
     "checksum": "9bf2f2ef068d397ab48294f3edba1029",
     "grade": false,
     "grade_id": "cell-9eac0db64dae7f29",
     "locked": true,
     "schema_version": 1,
     "solution": false
    }
   },
   "source": [
    "# Practicing Feedback Control\n",
    "\n",
    "In this unit we are going to explore basic feedback control on a highly simplified, 1-dimensional model of the quadrotor-camera system.\n",
    "\n",
    "## Simple Slide Camera\n",
    "\n",
    "Imagine a camera attached to a cart that is allowed to slide along a 1-dimensional track. The track is elevated some height $h$ above the ground and the camera is pointing downward. There is some target on the ground that the camera can observe; more specifically the camera can measure the angle $-\\pi /2 < \\gamma < \\pi/2$ from the centerline of the camera to the target. The objective is to issue velocity commands, $v_{cmd}$, in order to move the cart to a position such that $\\gamma \\rightarrow \\gamma_{des}$ (e.g. if $\\gamma_{des} = 0$, then the objective is simply to move the cart directly over the target.\n",
    "\n",
    "This system is depicted in the below diagram:\n",
    "\n",
    "<img src=\"files/simple_slide_camera.jpg\">\n",
    "\n",
    "This somewhat contrived system can be thought of as a highly simplified model of the quadrotor and it's downward-facing camera. If the quadrotor is constrained to move in one dimension, can be controlled via velocity commands, and we ignore the pitch that is induced when changing velocity (valid assumption for low-acceleration maneuvers), then we can roughly model the quadrotor as this simple slide camera\n",
    "\n",
    "Note that the position of the cart, $x$, and position of the target $x_{des}$ are not directly measured, only $\\gamma$ is measured.\n",
    "\n",
    "Now we will provide the code necessary to simulate this system"
   ]
  },
  {
   "cell_type": "code",
   "execution_count": 1,
   "metadata": {
    "deletable": false,
    "editable": false,
    "nbgrader": {
     "checksum": "710a7b5d599d1262582f03ad18af25f0",
     "grade": false,
     "grade_id": "cell-17e7b3d0056279df",
     "locked": true,
     "schema_version": 1,
     "solution": false
    }
   },
   "outputs": [],
   "source": [
    "from __future__ import division, print_function\n",
    "import numpy as np\n",
    "import matplotlib.pyplot as plt\n",
    "\n",
    "_HEIGHT = 1.0\n",
    "_VEL_CONST = 1.0\n",
    "_TIME_STEP = 0.1"
   ]
  },
  {
   "cell_type": "markdown",
   "metadata": {
    "deletable": false,
    "editable": false,
    "nbgrader": {
     "checksum": "ae22ffe1030056ebbad3cd08c3a65603",
     "grade": false,
     "grade_id": "cell-9f105cc37a0ac6f0",
     "locked": true,
     "schema_version": 1,
     "solution": false
    }
   },
   "source": [
    "## Plant Dynamics, Sensors, and Actuators\n",
    "\n",
    "the following object contains functions for the plant dynamics, sensing of the target angle $\\gamma$, and actuator for $v_{cmd}$"
   ]
  },
  {
   "cell_type": "code",
   "execution_count": 2,
   "metadata": {
    "deletable": false,
    "editable": false,
    "nbgrader": {
     "checksum": "a61ee946afe2ccea4dab1feec909cc47",
     "grade": false,
     "grade_id": "cell-e61f9c935bfff2a3",
     "locked": true,
     "schema_version": 1,
     "solution": false
    }
   },
   "outputs": [],
   "source": [
    "class SimpleSlideCamera():\n",
    "    '''Object that defines the dynamics of the simple slide-camera'''\n",
    "    \n",
    "    def __init__(self, x_0, v_0, x_d, gamma_d=0.0, h=_HEIGHT):\n",
    "        \n",
    "        # state variables (hidden)\n",
    "        self.__x = x_0\n",
    "        self.__v = v_0\n",
    "        \n",
    "        # reference position (hidden)\n",
    "        self.__x_d = x_d\n",
    "        \n",
    "        # reference angle (observed)\n",
    "        self.gamma_d = gamma_d\n",
    "        \n",
    "        # parameters\n",
    "        self.__h = h\n",
    "        \n",
    "    def sense_gamma(self):\n",
    "        # calculate angle from camera center line to target\n",
    "        return  np.arctan2(self.__x - self.__x_d, self.__h)\n",
    "    \n",
    "    def _get_hidden_position(self):\n",
    "        \n",
    "        return self.__x\n",
    "    \n",
    "    def _get_hidden_position_desired(self):\n",
    "        return self.__x_d\n",
    "    \n",
    "    def _get_hidden_velocity(self):\n",
    "        return self.__v\n",
    "    \n",
    "    def actuate_velocity_command(self, vel_cmd, dt=_TIME_STEP):\n",
    "        self.__v = vel_cmd\n",
    "        self.__x += self.__v*dt\n",
    "        \n",
    "    def actuate_disturbed_velocity_command(self, vel_cmd, dt=_TIME_STEP, vel_bias=0.5, vel_std=0.1):\n",
    "        self.__v = vel_cmd + np.random.normal(vel_bias, vel_std)\n",
    "        self.__x += self.__v*dt\n",
    "        \n",
    "    def actuate_acceleration_command(self, acc_cmd, dt=_TIME_STEP):\n",
    "        self.__v += acc_cmd*dt\n",
    "        self.__x += self.__v*dt "
   ]
  },
  {
   "cell_type": "markdown",
   "metadata": {
    "deletable": false,
    "editable": false,
    "nbgrader": {
     "checksum": "931b7d2a8cba4f116939ae452a536369",
     "grade": false,
     "grade_id": "cell-b11d06336bd46a09",
     "locked": true,
     "schema_version": 1,
     "solution": false
    }
   },
   "source": [
    "## Controller"
   ]
  },
  {
   "cell_type": "code",
   "execution_count": 3,
   "metadata": {
    "deletable": false,
    "nbgrader": {
     "checksum": "b9b170965de7e6744492096c575f4925",
     "grade": false,
     "grade_id": "cell-0e045fe402a168f6",
     "locked": false,
     "schema_version": 1,
     "solution": true
    }
   },
   "outputs": [],
   "source": [
    "def p_control(y_err, kp):\n",
    "    ''' compute the actuator command based on proportional error between output and desired output\n",
    "    Args:\n",
    "     y_err: y_des - y where y is the output variable of the plant\n",
    "    Returns:\n",
    "     cmd: actuator command to correct error (e.g. velocity command)\n",
    "    '''\n",
    "    \n",
    "    # TODO: write a proportional control law (hint: it is a single line, very simple equations)\n",
    "    # YOUR CODE HERE\n",
    "    cmd = y_err*kp\n",
    "    \n",
    "    \n",
    "    return cmd"
   ]
  },
  {
   "cell_type": "code",
   "execution_count": 4,
   "metadata": {
    "deletable": false,
    "editable": false,
    "nbgrader": {
     "checksum": "f0ffe71ecdf9ef2e7214bb6339961643",
     "grade": true,
     "grade_id": "cell-3b7fc8766793b509",
     "locked": true,
     "points": 5,
     "schema_version": 1,
     "solution": false
    }
   },
   "outputs": [],
   "source": [
    "# p_control tests\n",
    "assert np.isclose(p_control(0.0, 1.0), 0.0)\n",
    "assert np.isclose(p_control(1.0, 1.0), 1.0)\n",
    "assert np.isclose(p_control(-10.0, 0.1), -1.0)"
   ]
  },
  {
   "cell_type": "markdown",
   "metadata": {
    "deletable": false,
    "editable": false,
    "nbgrader": {
     "checksum": "1ad7a19095b423ffbd9d4dbfbfadd763",
     "grade": false,
     "grade_id": "cell-437832fdb12b63af",
     "locked": true,
     "schema_version": 1,
     "solution": false
    }
   },
   "source": [
    "## Simulation Script\n",
    "\n",
    "below is a script for testing various controllers for the `SimpleSlideCamera` plant as well as plotting the results."
   ]
  },
  {
   "cell_type": "code",
   "execution_count": 5,
   "metadata": {
    "deletable": false,
    "nbgrader": {
     "checksum": "429b01e2607788e2ba8555a0898681ac",
     "grade": false,
     "grade_id": "cell-a3cf4f67cec1349b",
     "locked": false,
     "schema_version": 1,
     "solution": true
    }
   },
   "outputs": [
    {
     "data": {
      "image/png": "[encoded data removed]",
      "text/plain": [
       "<Figure size 640x480 with 1 Axes>"
      ]
     },
     "metadata": {},
     "output_type": "display_data"
    }
   ],
   "source": [
    "# Proportional gain\n",
    "# TODO: assign an appropriate value to kp\n",
    "# YOUR CODE HERE\n",
    "kp=1.0\n",
    "\n",
    "\n",
    "# Control inputs\n",
    "dt = _TIME_STEP\n",
    "t_final = 10.0\n",
    "\n",
    "# intial conditions (position, velocity and targe position)\n",
    "x_0 = 0.0\n",
    "v_0 = 0.0\n",
    "x_des = 1.0\n",
    "\n",
    "# create SimpleSlideCamera with initial conditions\n",
    "sscam = SimpleSlideCamera(x_0, v_0, x_des)\n",
    "\n",
    "# initialize data storage\n",
    "data = dict()\n",
    "data['t'] = []\n",
    "data['acc_cmd'] = []\n",
    "data['vel_cmd'] = []\n",
    "data['err_gamma'] = []\n",
    "data['x_hidden'] = []\n",
    "data['v_hidden'] = []\n",
    "t = 0.0\n",
    "err_prev = 0.0\n",
    "while t < t_final:\n",
    "    t += dt\n",
    "    \n",
    "    # SENSOR: sense output variable gamma (angle from camera centerline to target) and calculate error from desired\n",
    "    err_gamma = sscam.gamma_d - sscam.sense_gamma()\n",
    "    \n",
    "    # CONTROLLER: call velocity control algoritm\n",
    "    acc_cmd = p_control(err_gamma, kp)\n",
    "    \n",
    "    # ACTUATOR: send velocity command to plant\n",
    "    sscam.actuate_acceleration_command(acc_cmd)\n",
    "    \n",
    "    # store data\n",
    "    err_gamma_prev = err_gamma\n",
    "    data['t'].append(t)\n",
    "    data['acc_cmd'].append(acc_cmd)\n",
    "    data['err_gamma'].append(err_gamma)\n",
    "    data['x_hidden'].append(sscam._get_hidden_position())\n",
    "    data['v_hidden'].append(sscam._get_hidden_velocity())\n",
    "    \n",
    "# Plot Data\n",
    "handle_position, = plt.plot(data['t'], data['x_hidden'], label='position (hidden)[m]')\n",
    "handle_velocity, = plt.plot(data['t'], data['v_hidden'], label='velocity (hidden)[m/s]')\n",
    "handle_err_gamma, = plt.plot(data['t'], data['err_gamma'], label='gamma error [rad]')\n",
    "plt.legend(handles=[handle_position, handle_velocity, handle_err_gamma])\n",
    "plt.show()"
   ]
  },
  {
   "cell_type": "markdown",
   "metadata": {
    "deletable": false,
    "editable": false,
    "nbgrader": {
     "checksum": "a5c7e309f3764e13ef1f071a61cdfb99",
     "grade": false,
     "grade_id": "cell-97663e5370ed4ee1",
     "locked": true,
     "schema_version": 1,
     "solution": false
    }
   },
   "source": [
    "## Questions\n",
    "\n",
    "__Q1.__ Does your gamma error (i.e. output converge to 0.0? \n",
    "    - If so how quickly (i.e. how long does it take for the error to be 5% of the original error)\n",
    "    - If not, what is happening? Is the error never changing or is it oscillating back and forth across zero? Can you change the proportional gain kp to change this behavior?\n"
   ]
  },
  {
   "cell_type": "markdown",
   "metadata": {
    "deletable": false,
    "nbgrader": {
     "checksum": "8becef518ce47c102da592d3b1e08520",
     "grade": true,
     "grade_id": "cell-da84b2df278ee63f",
     "locked": false,
     "points": 3,
     "schema_version": 1,
     "solution": true
    }
   },
   "source": [
    "Yes, the gamma error converges to 0.  Seems pretty fast, error reduces itself to 5% in around 3-4 seconds."
   ]
  },
  {
   "cell_type": "markdown",
   "metadata": {
    "deletable": false,
    "editable": false,
    "nbgrader": {
     "checksum": "287161c90478d921798cca2442b22e43",
     "grade": false,
     "grade_id": "cell-4fb8137a98c4791d",
     "locked": true,
     "schema_version": 1,
     "solution": false
    }
   },
   "source": [
    "__Q2.__ What values should your system's position and velocity be converging upon? Since this is a practice problem and we want to gain understanding of how this system behaves, we've cheated and let you observe the position and velocity of the system which were meant to be unobservable in the real world. Are the position and velocity converging to values you expected?\n"
   ]
  },
  {
   "cell_type": "markdown",
   "metadata": {
    "deletable": false,
    "nbgrader": {
     "checksum": "ef464f8f38598ee6d02738bb87f0802a",
     "grade": true,
     "grade_id": "cell-a2eb17af4a6d09c7",
     "locked": false,
     "points": 1,
     "schema_version": 1,
     "solution": true
    }
   },
   "source": [
    "V should converge to 0, whereas position should converge to 1, as that is desired.  They are indeed doing so."
   ]
  },
  {
   "cell_type": "markdown",
   "metadata": {
    "deletable": false,
    "editable": false,
    "nbgrader": {
     "checksum": "877195610ed03c6c21668dcffe1fbe58",
     "grade": false,
     "grade_id": "cell-9498c95144bc8f91",
     "locked": true,
     "schema_version": 1,
     "solution": false
    }
   },
   "source": [
    "__Q3.__ As you increase the proportional gain, what happens to the rate at which the error converges to zero? \n",
    "\n",
    "Can you find a proportional gain that converges within 1 second (i.e error reaches 5% of it's original value)? Note: if you start to see an oscillatory, saw-tooth pattern, you're gain is too high.\n"
   ]
  },
  {
   "cell_type": "markdown",
   "metadata": {
    "deletable": false,
    "nbgrader": {
     "checksum": "83baae8901af4cac16a82599ccf8a07f",
     "grade": true,
     "grade_id": "cell-81d05ce6a57ad6ce",
     "locked": false,
     "points": 2,
     "schema_version": 1,
     "solution": true
    }
   },
   "source": [
    "If p increases, the error converges faster, up to a point.  If p is too high, the system will oscillate due to the small time delay between observing error and acting on it.  kp=5 seems to converge very quickly"
   ]
  },
  {
   "cell_type": "markdown",
   "metadata": {
    "deletable": false,
    "editable": false,
    "nbgrader": {
     "checksum": "64687eaf7156c077fc28e863f71007ce",
     "grade": false,
     "grade_id": "cell-c17acf63ca490e37",
     "locked": true,
     "schema_version": 1,
     "solution": false
    }
   },
   "source": [
    "__Q4.__ What happens if you cannot perfectly control the velocity, for example there is some form of velocity disturbance that you cannot control (e.g. wind, actuator noise)? Let's try it out:\n",
    "\n",
    "In the #ACTUATOR portion of the simulation script, replace `actuate_velocity_command` with `actuate_disturbed_velocity_command`, restart the kernel, and run the script. Does output error (gamma error) still converge to zero? If not, what does the gamma error converge to? How might you change your controller to fix this \"steady state error\""
   ]
  },
  {
   "cell_type": "markdown",
   "metadata": {
    "deletable": false,
    "nbgrader": {
     "checksum": "fab1c49443d9f1dc495977038c2cff3d",
     "grade": true,
     "grade_id": "cell-08701d756d9e167c",
     "locked": false,
     "points": 0,
     "schema_version": 1,
     "solution": true
    }
   },
   "source": [
    "The gamma error actually converges to -0.5, which is not 0."
   ]
  },
  {
   "cell_type": "markdown",
   "metadata": {
    "deletable": false,
    "editable": false,
    "nbgrader": {
     "checksum": "dfaf2748bfa065e27267aa9ae578baa9",
     "grade": false,
     "grade_id": "cell-4a5066504f2f626c",
     "locked": true,
     "schema_version": 1,
     "solution": false
    }
   },
   "source": [
    "__Q5.__ Often times we control a system by applying a force. In this way we are not directly controlling the velocity of a system, but instead the acceleration. Let's try it out:\n",
    "\n",
    "In the ACTUATOR portion of the simulation script replace `actuate_velocity_command` with `actuate_acceleration_command`. In the CONTROLLER portion of the script, have the controller output a acc_cmd instead of vel_cmd (just change the variable name, but this way you know it represents an acceleration instead of a velocity). Restart the kernel and rerun the script\n",
    "\n",
    "Now what is happening to the gamma error, is it converging to zero? If not, is there anything you could think of to change in you controller in order to converge the error to zero?"
   ]
  },
  {
   "cell_type": "markdown",
   "metadata": {
    "deletable": false,
    "nbgrader": {
     "checksum": "9527e9bea3a2675418afa2c5bd1a3631",
     "grade": true,
     "grade_id": "cell-ea552313897b993a",
     "locked": false,
     "points": 0,
     "schema_version": 1,
     "solution": true
    }
   },
   "source": [
    "The gamma error, velocity, and position now oscillate sinusoidally.  To force the error to 0, I could add a derivative term, to force the controller to chill out and avoid oscllating"
   ]
  }
 ],
 "metadata": {
  "kernelspec": {
   "display_name": "Python 3",
   "language": "python",
   "name": "python3"
  },
  "language_info": {
   "codemirror_mode": {
    "name": "ipython",
    "version": 3
   },
   "file_extension": ".py",
   "mimetype": "text/x-python",
   "name": "python",
   "nbconvert_exporter": "python",
   "pygments_lexer": "ipython3",
   "version": "3.9.6"
  }
 },
 "nbformat": 4,
 "nbformat_minor": 2
}
