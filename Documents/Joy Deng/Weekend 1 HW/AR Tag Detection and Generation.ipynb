{
 "cells": [
  {
   "cell_type": "code",
   "execution_count": 15,
   "id": "d46797ed-11a3-46c0-8efb-4e334bf77f26",
   "metadata": {},
   "outputs": [
    {
     "name": "stdout",
     "output_type": "stream",
     "text": [
      "(array([[[113., 113.],\n",
      "        [412., 113.],\n",
      "        [412., 412.],\n",
      "        [113., 412.]]], dtype=float32), array([[[563., 563.],\n",
      "        [862., 563.],\n",
      "        [861., 862.],\n",
      "        [563., 862.]]], dtype=float32))\n",
      "[[192]\n",
      " [ 17]]\n",
      "(array([[[605., 595.],\n",
      "        [658., 604.],\n",
      "        [648., 830.],\n",
      "        [595., 821.]]], dtype=float32), array([[[682., 771.],\n",
      "        [825., 768.],\n",
      "        [829., 824.],\n",
      "        [686., 829.]]], dtype=float32), array([[[682., 685.],\n",
      "        [825., 682.],\n",
      "        [829., 738.],\n",
      "        [686., 743.]]], dtype=float32), array([[[155., 156.],\n",
      "        [198., 155.],\n",
      "        [199., 198.],\n",
      "        [156., 199.]]], dtype=float32))\n"
     ]
    },
    {
     "data": {
      "text/plain": [
       "True"
      ]
     },
     "execution_count": 15,
     "metadata": {},
     "output_type": "execute_result"
    }
   ],
   "source": [
    "# import cv2\n",
    "\n",
    "# # LOAD IMAGE AND TAG DICTIONARY\n",
    "# tags = cv2.imread('data/two_tags_ARUCO_ORIGINAL.png')\n",
    "# arucoDict = cv2.aruco.Dictionary_get(cv2.aruco.DICT_ARUCO_ORIGINAL)\n",
    "\n",
    "# # DETECT TAGS IN IMAGE\n",
    "# corners, ids, rejects = cv2.aruco.detectMarkers(cv2.cvtColor(tags, cv2.COLOR_BGR2GRAY), arucoDict)\n",
    "\n",
    "# # DRAW DETECTION AND SAVE FILE\n",
    "# detection = cv2.aruco.drawDetectedMarkers(tags, corners, borderColor=(255, 0, 0))\n",
    "# cv2.imwrite('detection_two_tags_ARUCO_ORIGINAL.png', detection)\n",
    "## DETECT TAGS IN IMAGE\n",
    "# corners, ids, rejects = cv2.aruco.detectMarkers(cv2.cvtColor(tags, cv2.COLOR_BGR2GRAY), arucoDict)\n",
    "\n",
    "import cv2 as cv\n",
    "\n",
    "dictionary = cv.aruco.getPredefinedDictionary(cv.aruco.DICT_ARUCO_ORIGINAL)\n",
    "parameters =  cv.aruco.DetectorParameters()\n",
    "detector = cv.aruco.ArucoDetector(dictionary, parameters)\n",
    "\n",
    "frame = cv.imread('data/two_tags_ARUCO_ORIGINAL.png')\n",
    "\n",
    "markerCorners, markerIds, rejectedCandidates = detector.detectMarkers(frame)\n",
    "\n",
    "detection = cv2.aruco.drawDetectedMarkers(frame, markerCorners, markerIds, borderColor=(255, 0, 0))\n",
    "print(markerCorners)\n",
    "print(markerIds)\n",
    "print(rejectedCandidates)\n",
    "\n",
    "cv2.imwrite('detection_two_tags_ARUCO_ORIGINAL.png', detection)\n"
   ]
  },
  {
   "cell_type": "code",
   "execution_count": 20,
   "id": "3753de5c-3183-46b8-9a24-654825f41a76",
   "metadata": {},
   "outputs": [
    {
     "data": {
      "text/plain": [
       "True"
      ]
     },
     "execution_count": 20,
     "metadata": {},
     "output_type": "execute_result"
    }
   ],
   "source": [
    "import numpy as np\n",
    "import cv2\n",
    "# # LOAD CORRECT TAG DICTIONARY\n",
    "arucoDict = cv.aruco.getPredefinedDictionary(cv.aruco.DICT_ARUCO_ORIGINAL)\n",
    "\n",
    "SIZE = 500 # pixels\n",
    "\n",
    "# CREATE ARRAY FOR MARKER\n",
    "marker = np.zeros((SIZE, SIZE, 1), dtype=np.uint8)\n",
    "\n",
    "# DRAW AND SAVE MARKER\n",
    "ID = 0\n",
    "cv2.aruco.generateImageMarker(arucoDict, ID, SIZE, marker, 1)\n",
    "cv2.imwrite('DICT_ARUCO_ORIGINAL_id_{}_{}.png'.format(ID, SIZE), marker)\n"
   ]
  },
  {
   "cell_type": "code",
   "execution_count": null,
   "id": "fad658ed-6648-44d7-ba1c-47bc36119968",
   "metadata": {},
   "outputs": [],
   "source": []
  }
 ],
 "metadata": {
  "kernelspec": {
   "display_name": "Python 3 (ipykernel)",
   "language": "python",
   "name": "python3"
  },
  "language_info": {
   "codemirror_mode": {
    "name": "ipython",
    "version": 3
   },
   "file_extension": ".py",
   "mimetype": "text/x-python",
   "name": "python",
   "nbconvert_exporter": "python",
   "pygments_lexer": "ipython3",
   "version": "3.10.12"
  }
 },
 "nbformat": 4,
 "nbformat_minor": 5
}
